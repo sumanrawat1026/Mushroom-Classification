{
 "cells": [
  {
   "cell_type": "code",
   "execution_count": 3,
   "metadata": {},
   "outputs": [],
   "source": [
    "import numpy as np\n",
    "import pandas as pd\n",
    "import matplotlib.pyplot as plt\n",
    "import seaborn as sb\n",
    "import os\n",
    "import datetime as dt\n",
    "from sklearn.feature_selection import SelectFromModel\n",
    "from sklearn.model_selection import train_test_split\n",
    "\n",
    "# imports\n",
    "import pandas as pd\n",
    "import seaborn as sns\n",
    "import statsmodels.formula.api as smf\n",
    "from sklearn.linear_model import LinearRegression\n",
    "from sklearn import metrics\n",
    "#from sklearn.cross_validation import train_test_split\n",
    "import numpy as np"
   ]
  },
  {
   "cell_type": "code",
   "execution_count": null,
   "metadata": {},
   "outputs": [],
   "source": [
    "# Importing Data from csv file\n",
    "mushroomDF = pd.read_csv('C:/Users/ankur/Downloads/Kaggle Notebooks/mushrooms.csv')\n",
    "mushroomDF.head()"
   ]
  },
  {
   "cell_type": "code",
   "execution_count": null,
   "metadata": {},
   "outputs": [],
   "source": [
    "mushroomDF.shape"
   ]
  },
  {
   "cell_type": "markdown",
   "metadata": {},
   "source": [
    "# Data Pre-Processing"
   ]
  },
  {
   "cell_type": "code",
   "execution_count": null,
   "metadata": {},
   "outputs": [],
   "source": [
    "# Check if there are any null values in dataset\n",
    "mushroomDF.isnull().sum()"
   ]
  },
  {
   "cell_type": "code",
   "execution_count": null,
   "metadata": {},
   "outputs": [],
   "source": [
    "mushroomDF.dtypes"
   ]
  },
  {
   "cell_type": "code",
   "execution_count": null,
   "metadata": {},
   "outputs": [],
   "source": [
    "mushroomDF['class'].unique()"
   ]
  },
  {
   "cell_type": "code",
   "execution_count": null,
   "metadata": {},
   "outputs": [],
   "source": [
    "mushroomDF.dtypes"
   ]
  },
  {
   "cell_type": "code",
   "execution_count": null,
   "metadata": {},
   "outputs": [],
   "source": [
    "csmap = {'x' : 0, 'b' : 1, 's' : 2, 'f' : 3, 'k' : 4, 'c' : 5}\n",
    "mushroomDF['cap-shape'] = mushroomDF['cap-shape'].map(csmap)"
   ]
  },
  {
   "cell_type": "code",
   "execution_count": null,
   "metadata": {},
   "outputs": [],
   "source": [
    "allMapping = [{'p':0, 'e':1}, \n",
    "              {'x' : 0, 'b' : 1, 's' : 2, 'f' : 3, 'k' : 4, 'c' : 5},\n",
    "              {'s':0, 'y':1, 'f':2, 'g':3},\n",
    "              {'n':0, 'y':1, 'w':2, 'g':3, 'e':4, 'p':5, 'b':6, 'u':7, 'c':8, 'r':9},\n",
    "              {'t':0, 'f':1},\n",
    "              {'p':0, 'a':1, 'l':2, 'n':3, 'f':4, 'c':5, 'y':6, 's':7, 'm':8},\n",
    "              {'f':0, 'a':1},\n",
    "              {'c':0, 'w':1},\n",
    "              {'n':0, 'b':1},\n",
    "              {'k':0, 'n':1, 'g':2, 'p':3, 'w':4, 'h':5, 'u':6, 'e':7, 'b':8, 'r':9, 'y':10, 'o':11},\n",
    "              {'e':0, 't':1},\n",
    "              {'e':0, 'c':1, 'b':2, 'r':3, '?':4},\n",
    "              {'s':0, 'f':1, 'k':2, 'y':3},\n",
    "              {'s':0, 'f':1, 'k':2, 'y':3},\n",
    "              {'w':0, 'g':1, 'p':2, 'n':3, 'b':4, 'e':5, 'o':6, 'c':7, 'y':8},\n",
    "              {'w':0, 'p':1, 'g':2, 'b':3, 'n':4, 'e':5, 'y':6, 'o':7, 'c':8},\n",
    "              {'p':0},\n",
    "              {'w':0, 'n':1, 'o':2, 'y':3},\n",
    "              {'o':0, 't':1, 'n':2},\n",
    "              {'p':0, 'e':1, 'l':2, 'f':3, 'n':4},\n",
    "              {'k':0, 'n':1, 'u':2, 'h':3, 'w':4, 'r':5, 'o':6, 'y':7, 'b':8},\n",
    "              {'s':0, 'n':1, 'a':2, 'v':3, 'y':4, 'c':5},\n",
    "              {'u':0, 'g':1, 'm':2, 'd':3, 'p':4, 'w':5, 'l':6}\n",
    "    \n",
    "]"
   ]
  },
  {
   "cell_type": "code",
   "execution_count": null,
   "metadata": {},
   "outputs": [],
   "source": [
    "len(allMapping)"
   ]
  },
  {
   "cell_type": "code",
   "execution_count": null,
   "metadata": {},
   "outputs": [],
   "source": [
    "allMapping[1]"
   ]
  },
  {
   "cell_type": "code",
   "execution_count": null,
   "metadata": {},
   "outputs": [],
   "source": [
    "#Replacing categorical values with numeric values\n",
    "for i in range(0,len(mushroomDF.columns)):\n",
    "    #print(mushroomDF.columns[i])\n",
    "    mushroomDF[mushroomDF.columns[i]] =  mushroomDF[mushroomDF.columns[i]].map(allMapping[i]).astype(int)"
   ]
  },
  {
   "cell_type": "code",
   "execution_count": null,
   "metadata": {},
   "outputs": [],
   "source": [
    "y = mushroomDF['class'].values\n",
    "X = mushroomDF.drop('class', axis = 1).values\n",
    "X_train, X_test, y_train, y_test = train_test_split(X, y, test_size=0.2, random_state=21, stratify=y)"
   ]
  },
  {
   "cell_type": "code",
   "execution_count": null,
   "metadata": {},
   "outputs": [],
   "source": [
    "mushroomDF.head()"
   ]
  },
  {
   "cell_type": "code",
   "execution_count": null,
   "metadata": {},
   "outputs": [],
   "source": [
    "mushroomDF.dtypes"
   ]
  },
  {
   "cell_type": "code",
   "execution_count": null,
   "metadata": {},
   "outputs": [],
   "source": [
    "# Targte variable is class\n",
    "y = mushroomDF['class']\n",
    "X = mushroomDF.drop('class', axis =1 )"
   ]
  },
  {
   "cell_type": "code",
   "execution_count": null,
   "metadata": {},
   "outputs": [],
   "source": [
    "# spliting test and training data\n",
    "X_train, X_test, y_train, y_test = train_test_split(X, y, test_size=0.2, random_state=21, stratify=y)"
   ]
  },
  {
   "cell_type": "markdown",
   "metadata": {},
   "source": [
    "# Feature Selection"
   ]
  },
  {
   "cell_type": "markdown",
   "metadata": {},
   "source": [
    "## 1. Univariate Selection"
   ]
  },
  {
   "cell_type": "code",
   "execution_count": null,
   "metadata": {},
   "outputs": [],
   "source": [
    "import pandas as pd\n",
    "import numpy as np\n",
    "from sklearn.feature_selection import SelectKBest\n",
    "from sklearn.feature_selection import SelectKBest, chi2\n",
    "\n",
    "bestfeatures = SelectKBest(score_func=chi2, k=20)#.fit_transform(X, y)\n",
    "fit = bestfeatures.fit(X,y)\n",
    "dfscores = pd.DataFrame(fit.scores_)\n",
    "dfcolumns = pd.DataFrame(X.columns)\n",
    "#concat two dataframes for better visualization \n",
    "featureScores = pd.concat([dfcolumns,dfscores],axis=1)\n",
    "    featureScores.columns = ['Specs','Score']  #naming the dataframe columns\n",
    "print(featureScores.nlargest(20,'Score'))  #print 10 best features"
   ]
  },
  {
   "cell_type": "markdown",
   "metadata": {},
   "source": [
    "# 2. Feature Importance"
   ]
  },
  {
   "cell_type": "code",
   "execution_count": null,
   "metadata": {},
   "outputs": [],
   "source": [
    "from sklearn.ensemble import ExtraTreesClassifier\n",
    "import matplotlib.pyplot as plt\n",
    "model = ExtraTreesClassifier()\n",
    "model.fit(X,y)\n",
    "print(model.feature_importances_) #use inbuilt class feature_importances of tree based classifiers\n",
    "#plot graph of feature importances for better visualization\n",
    "feat_importances = pd.Series(model.feature_importances_, index=X.columns)\n",
    "feat_importances.nlargest(20).plot(kind='barh')\n",
    "plt.show()"
   ]
  },
  {
   "cell_type": "markdown",
   "metadata": {},
   "source": [
    "## 3. Correlation Matrix"
   ]
  },
  {
   "cell_type": "code",
   "execution_count": null,
   "metadata": {},
   "outputs": [],
   "source": [
    "corrmat = mushroomDF.corr()\n",
    "top_corr_features = corrmat.index\n",
    "plt.figure(figsize=(20,20))\n",
    "#plot heat map\n",
    "g=sns.heatmap(mushroomDF[top_corr_features].corr(),annot=True,cmap=\"RdYlGn\")"
   ]
  },
  {
   "cell_type": "code",
   "execution_count": null,
   "metadata": {},
   "outputs": [],
   "source": []
  },
  {
   "cell_type": "markdown",
   "metadata": {},
   "source": [
    "# Plotting for data visualization"
   ]
  },
  {
   "cell_type": "code",
   "execution_count": null,
   "metadata": {},
   "outputs": [],
   "source": [
    "plt.figure(figsize=(10,5))\n",
    "sns.set_color_codes(palette=\"colorblind\")\n",
    "sns.distplot(X_train['bruises'],color='g')\n",
    "plt.show()"
   ]
  },
  {
   "cell_type": "markdown",
   "metadata": {},
   "source": [
    "# Plotting Continous variable"
   ]
  },
  {
   "cell_type": "code",
   "execution_count": null,
   "metadata": {},
   "outputs": [],
   "source": [
    "sb.distplot(X_train['odor'],kde = False)\n",
    "plt.show()\n",
    "# This shows that more than 2600 mushrooms has odor 3"
   ]
  },
  {
   "cell_type": "code",
   "execution_count": null,
   "metadata": {},
   "outputs": [],
   "source": [
    "sb.distplot(X_train['habitat'],kde = False)\n",
    "plt.show()\n",
    "# This shows that more than 2600 mushrooms habitat is 3"
   ]
  },
  {
   "cell_type": "code",
   "execution_count": null,
   "metadata": {},
   "outputs": [],
   "source": [
    "import matplotlib.pyplot as plt\n",
    "import seaborn as sns\n"
   ]
  },
  {
   "cell_type": "code",
   "execution_count": null,
   "metadata": {},
   "outputs": [],
   "source": [
    "plt.hist(X_train['cap-color','cap-surface','cap-shape'], bins = 100,color = 'blue', edgecolor = 'black')\n",
    "plt.set_title('Histogram For Cap Related Data')\n",
    "plt.set_xlabel('Cap', size = 22)\n",
    "plt.set_ylabel('Total', size= 22)\n",
    "\n",
    "plt.tight_layout()\n",
    "plt.show()"
   ]
  },
  {
   "cell_type": "code",
   "execution_count": null,
   "metadata": {},
   "outputs": [],
   "source": [
    "plt.figure(figsize=(10,5))\n",
    "sns.set(style=\"darkgrid\")\n",
    "sns.countplot(x = \"class\", hue =  \"odor\", data = mushroomDF, palette = \"CMRmap\")\n",
    "plt.show()"
   ]
  },
  {
   "cell_type": "code",
   "execution_count": null,
   "metadata": {},
   "outputs": [],
   "source": [
    "plt.figure(figsize = (15,10))\n",
    "sns.set(style=\"darkgrid\")\n",
    "g = sns.catplot(x= \"odor\", y = \"class\", hue = \"habitat\" , data = mushroomDF, kind = 'bar' ,palette= \"YlOrRd_r\")\n",
    "g.despine(left = True)\n",
    "g.set_ylabels(\"Survived Probability\")"
   ]
  },
  {
   "cell_type": "code",
   "execution_count": null,
   "metadata": {},
   "outputs": [],
   "source": []
  },
  {
   "cell_type": "markdown",
   "metadata": {},
   "source": [
    "# Logistic Regression"
   ]
  },
  {
   "cell_type": "code",
   "execution_count": null,
   "metadata": {},
   "outputs": [],
   "source": [
    "from sklearn.linear_model import LogisticRegression\n",
    "from sklearn.metrics import accuracy_score\n",
    "\n",
    "lr = LogisticRegression(random_state=0)\n",
    "lr.fit(X_train,y_train)\n",
    "y_pred=lr.predict(X_test)\n",
    "accuracy_lst = []\n",
    "# Get the accuracy score\n",
    "acc=accuracy_score(y_test, y_pred)\n",
    "\n",
    "# Append to the accuracy list\n",
    "accuracy_lst.append(acc)\n",
    "\n",
    "print(\"[Logistic regression algorithm] accuracy_score: {:.3f}.\".format(acc))"
   ]
  },
  {
   "cell_type": "markdown",
   "metadata": {},
   "source": [
    "# Random Forest Regression "
   ]
  },
  {
   "cell_type": "code",
   "execution_count": null,
   "metadata": {},
   "outputs": [],
   "source": [
    "from sklearn.ensemble import RandomForestClassifier\n",
    "clf=RandomForestClassifier(n_estimators=254)\n",
    "\n",
    "#Train the model using the training sets y_pred=clf.predict(X_test)\n",
    "clf.fit(X_train,y_train)\n",
    "\n",
    "y_pred=clf.predict(X_test)\n",
    "\n",
    "\n",
    "# Get the accuracy score\n",
    "acc=accuracy_score(y_test, y_pred)\n",
    "\n",
    "# Append to the accuracy list\n",
    "accuracy_lst.append(acc)\n",
    "\n",
    "\n",
    "# Model Accuracy, how often is the classifier correct?\n",
    "print(\"[Randon forest algorithm] accuracy_score: {:.3f}.\".format(acc))"
   ]
  },
  {
   "cell_type": "markdown",
   "metadata": {},
   "source": [
    "# Decision Tree"
   ]
  },
  {
   "cell_type": "code",
   "execution_count": null,
   "metadata": {},
   "outputs": [],
   "source": [
    "import matplotlib.pyplot as plt\n",
    "import pandas as pd\n",
    "import math\n",
    "import copy\n",
    "\n",
    "from sklearn import tree\n",
    "\n",
    "dtf = tree.DecisionTreeClassifier()\n",
    "\n",
    "dtf.fit(X_train,y_train)\n",
    "\n",
    "prediction = dtf.predict(X_test)\n",
    "\n",
    "# Get the accuracy score\n",
    "acc=accuracy_score(y_test, prediction)\n",
    "\n",
    "# Append to the accuracy list\n",
    "accuracy_lst.append(acc)\n",
    "\n",
    "\n",
    "# Model Accuracy, how often is the classifier correct?\n",
    "print(\"[Decision Tree algorithm] accuracy_score: {:.3f}.\".format(acc))"
   ]
  },
  {
   "cell_type": "markdown",
   "metadata": {},
   "source": [
    "# SVM : SImple Kernel"
   ]
  },
  {
   "cell_type": "code",
   "execution_count": null,
   "metadata": {},
   "outputs": [],
   "source": [
    "from sklearn.svm import SVC\n",
    "svclassifier = SVC(kernel='linear')\n",
    "svclassifier.fit(X_train, y_train)\n",
    "y_pred = svclassifier.predict(X_test)\n",
    "acc=accuracy_score(y_test, y_pred)\n",
    "print(\"[SVM algorithm] accuracy_score: {:.3f}.\",acc)"
   ]
  },
  {
   "cell_type": "markdown",
   "metadata": {},
   "source": [
    "# SVM : Polynomial Kernel"
   ]
  },
  {
   "cell_type": "code",
   "execution_count": null,
   "metadata": {},
   "outputs": [],
   "source": [
    "from sklearn.svm import SVC\n",
    "svclassifier = SVC(kernel='poly', degree=8)\n",
    "svclassifier.fit(X_train, y_train)\n",
    "y_pred = svclassifier.predict(X_test)\n",
    "acc=accuracy_score(y_test, y_pred)\n",
    "print(\"[SVM algorithm With Polynomial Kernel] accuracy_score: {:.3f}.\",acc)"
   ]
  },
  {
   "cell_type": "markdown",
   "metadata": {},
   "source": [
    "# SVM : Gaussian Kernel"
   ]
  },
  {
   "cell_type": "code",
   "execution_count": null,
   "metadata": {},
   "outputs": [],
   "source": [
    "from sklearn.svm import SVC\n",
    "svclassifier = SVC(kernel='rbf', degree=8)\n",
    "svclassifier.fit(X_train, y_train)\n",
    "y_pred = svclassifier.predict(X_test)\n",
    "acc=accuracy_score(y_test, y_pred)\n",
    "print(\"[SVM algorithm With Gaussian Kernel] accuracy_score: {:.3f}.\",acc)"
   ]
  },
  {
   "cell_type": "markdown",
   "metadata": {},
   "source": [
    "# SVM : Sigmoid Kernel"
   ]
  },
  {
   "cell_type": "code",
   "execution_count": null,
   "metadata": {},
   "outputs": [],
   "source": [
    "from sklearn.svm import SVC\n",
    "svclassifier = SVC(kernel='sigmoid', degree=8)\n",
    "svclassifier.fit(X_train, y_train)\n",
    "y_pred = svclassifier.predict(X_test)\n",
    "acc=accuracy_score(y_test, y_pred)\n",
    "print(\"[SVM algorithm With Sigmoid Kernel] accuracy_score: {:.3f}.\",acc)"
   ]
  },
  {
   "cell_type": "code",
   "execution_count": null,
   "metadata": {},
   "outputs": [],
   "source": [
    "def plot_svc_decision_function(model, ax=None, plot_support=True):\n",
    "    \"\"\"Plot the decision function for a 2D SVC\"\"\"\n",
    "    if ax is None:\n",
    "        ax = plt.gca()\n",
    "    xlim = ax.get_xlim()\n",
    "    ylim = ax.get_ylim()\n",
    "    \n",
    "    # create grid to evaluate model\n",
    "    x = np.linspace(xlim[0], xlim[1], 30)\n",
    "    y = np.linspace(ylim[0], ylim[1], 30)\n",
    "    Y1, X1 = np.meshgrid(y, x)\n",
    "    xy = np.vstack([X1.ravel(), Y1.ravel()]).T\n",
    "    P = model.decision_function(xy).reshape(X1.shape)\n",
    "    \n",
    "    # plot decision boundary and margins\n",
    "    ax.contour(X1, Y1, P, colors='k',\n",
    "               levels=[-1, 0, 1], alpha=0.5,\n",
    "               linestyles=['--', '-', '--'])\n",
    "    \n",
    "    # plot support vectors\n",
    "    if plot_support:\n",
    "        ax.scatter(model.support_vectors_[:, 0],\n",
    "                   model.support_vectors_[:, 1],\n",
    "                   s=300, linewidth=1, facecolors='none');\n",
    "    ax.set_xlim(xlim)\n",
    "    ax.set_ylim(ylim)\n"
   ]
  },
  {
   "cell_type": "code",
   "execution_count": null,
   "metadata": {},
   "outputs": [],
   "source": [
    "\n",
    "plt.scatter(X1[:, 0], X1[:, 1], c=y, s=50, cmap='autumn')\n",
    "plot_svc_decision_function(svclassifier);\n"
   ]
  },
  {
   "cell_type": "code",
   "execution_count": null,
   "metadata": {},
   "outputs": [],
   "source": [
    "X.head()"
   ]
  },
  {
   "cell_type": "markdown",
   "metadata": {},
   "source": [
    "# ANN Algorithm"
   ]
  },
  {
   "cell_type": "code",
   "execution_count": null,
   "metadata": {},
   "outputs": [],
   "source": [
    "X_train.head()"
   ]
  },
  {
   "cell_type": "code",
   "execution_count": null,
   "metadata": {},
   "outputs": [],
   "source": [
    "y_train.head()"
   ]
  },
  {
   "cell_type": "code",
   "execution_count": null,
   "metadata": {},
   "outputs": [],
   "source": [
    "# Sigmoid Function\n",
    "\n",
    "def nonlin(x,deriv=False):\n",
    "    if(deriv==True):\n",
    "        return x*(1-x)\n",
    "    return 1/(1+np.exp(-x))"
   ]
  },
  {
   "cell_type": "code",
   "execution_count": null,
   "metadata": {},
   "outputs": [],
   "source": [
    "# seed random numbers to make calculation\n",
    "# deterministic (just a good practice)\n",
    "\n",
    "np.random.seed(1)\n",
    "# initialize weights randomly with mean 0\n",
    "syn0 = 2*np.random.random((22,1)) - 1\n",
    "\n",
    "#syn1 = 2*np.random.random((6499,1)) - 1\n",
    "print(syn0)"
   ]
  },
  {
   "cell_type": "code",
   "execution_count": null,
   "metadata": {},
   "outputs": [],
   "source": [
    "#np.dot(X_train.T,syn0)\n",
    "#X_train.T\n",
    "syn0.shape\n",
    "#x = np.dot(l0.T,syn0)\n",
    "#b = 1/(1+np.exp(-x))\n",
    "#l1_error = y_train - l1\n",
    "##l1Delta1 =  nonlin(l1,True)\n",
    "#l1Delta2 = l1_error * l1Delta1\n",
    "print(l1_error.shape)\n",
    "print(l1Delta1.shape)\n",
    "print(l1Delta2.shape)\n",
    "print(syn0.shape)\n",
    "print(l0.shape)\n"
   ]
  },
  {
   "cell_type": "code",
   "execution_count": null,
   "metadata": {},
   "outputs": [],
   "source": [
    "y_train = y_train.reshape((6499,1))\n",
    "for j in range(60000):\n",
    "    l0 = X_train\n",
    "    l1 = nonlin(np.dot(l0,syn0))\n",
    "    l1_error = y_train - l1\n",
    "    l1_delta = l1_error * nonlin(l1,True)\n",
    "    syn0 += np.dot(l0.T,l1_delta)\n",
    "print(\"Output After Training:\")\n",
    "print(l1)"
   ]
  },
  {
   "cell_type": "code",
   "execution_count": null,
   "metadata": {},
   "outputs": [],
   "source": [
    "f  = np.dot(l0,l1_delta)\n",
    "f.shape"
   ]
  },
  {
   "cell_type": "code",
   "execution_count": null,
   "metadata": {},
   "outputs": [],
   "source": [
    "print(l0.shape)\n",
    "print(l1_delta.shape)\n",
    "print(l1Delta.shape)\n"
   ]
  },
  {
   "cell_type": "code",
   "execution_count": null,
   "metadata": {},
   "outputs": [],
   "source": [
    "#y_train = y_train.values\n",
    "print(l1_error.shape)\n",
    "print(l0.shape)\n",
    "print(l1_delta.shape)"
   ]
  },
  {
   "cell_type": "code",
   "execution_count": null,
   "metadata": {},
   "outputs": [],
   "source": [
    "\n",
    "X_train = np.reshape(np.array(X_train),(6499,22))\n",
    "syn0 = np.reshape(np.array(syn0),(6499,1))\n",
    "print(X_train)"
   ]
  },
  {
   "cell_type": "code",
   "execution_count": null,
   "metadata": {},
   "outputs": [],
   "source": [
    "X = np.array([ [0,0,1],[0,1,1],[1,0,1],[1,1,1] ])\n",
    "y = np.array([[0,1,1,0]]).T\n",
    "syn0 = 2*np.random.random((3,4)) - 1\n",
    "syn1 = 2*np.random.random((4,1)) - 1\n",
    "for j in range(60000):\n",
    "    l1 = 1/(1+np.exp(-(np.dot(X,syn0))))\n",
    "    l2 = 1/(1+np.exp(-(np.dot(l1,syn1))))\n",
    "    l2_delta = (y - l2)*(l2*(1-l2))\n",
    "    l1_delta = l2_delta.dot(syn1.T) * (l1 * (1-l1))\n",
    "    syn1 += l1.T.dot(l2_delta)\n",
    "    syn0 += X.T.dot(l1_delta)"
   ]
  },
  {
   "cell_type": "code",
   "execution_count": null,
   "metadata": {},
   "outputs": [],
   "source": [
    "# Confusion MAtrix\n",
    "from sklearn.metrics import accuracy_score, confusion_matrix\n",
    "confusion_matrix(y_test, y_pred, labels = [0,1])"
   ]
  },
  {
   "cell_type": "markdown",
   "metadata": {},
   "source": [
    "# Building Neural Network"
   ]
  },
  {
   "cell_type": "markdown",
   "metadata": {},
   "source": [
    "# NEW ANN MODEL"
   ]
  },
  {
   "cell_type": "code",
   "execution_count": 5,
   "metadata": {},
   "outputs": [],
   "source": [
    "from sklearn import preprocessing\n",
    "le = preprocessing.LabelEncoder()"
   ]
  },
  {
   "cell_type": "code",
   "execution_count": 362,
   "metadata": {},
   "outputs": [
    {
     "data": {
      "text/html": [
       "<div>\n",
       "<style scoped>\n",
       "    .dataframe tbody tr th:only-of-type {\n",
       "        vertical-align: middle;\n",
       "    }\n",
       "\n",
       "    .dataframe tbody tr th {\n",
       "        vertical-align: top;\n",
       "    }\n",
       "\n",
       "    .dataframe thead th {\n",
       "        text-align: right;\n",
       "    }\n",
       "</style>\n",
       "<table border=\"1\" class=\"dataframe\">\n",
       "  <thead>\n",
       "    <tr style=\"text-align: right;\">\n",
       "      <th></th>\n",
       "      <th>class</th>\n",
       "      <th>cap-shape</th>\n",
       "      <th>cap-surface</th>\n",
       "      <th>cap-color</th>\n",
       "      <th>bruises</th>\n",
       "      <th>odor</th>\n",
       "      <th>gill-attachment</th>\n",
       "      <th>gill-spacing</th>\n",
       "      <th>gill-size</th>\n",
       "      <th>gill-color</th>\n",
       "      <th>...</th>\n",
       "      <th>stalk-surface-below-ring</th>\n",
       "      <th>stalk-color-above-ring</th>\n",
       "      <th>stalk-color-below-ring</th>\n",
       "      <th>veil-type</th>\n",
       "      <th>veil-color</th>\n",
       "      <th>ring-number</th>\n",
       "      <th>ring-type</th>\n",
       "      <th>spore-print-color</th>\n",
       "      <th>population</th>\n",
       "      <th>habitat</th>\n",
       "    </tr>\n",
       "  </thead>\n",
       "  <tbody>\n",
       "    <tr>\n",
       "      <td>0</td>\n",
       "      <td>p</td>\n",
       "      <td>x</td>\n",
       "      <td>s</td>\n",
       "      <td>n</td>\n",
       "      <td>t</td>\n",
       "      <td>p</td>\n",
       "      <td>f</td>\n",
       "      <td>c</td>\n",
       "      <td>n</td>\n",
       "      <td>k</td>\n",
       "      <td>...</td>\n",
       "      <td>s</td>\n",
       "      <td>w</td>\n",
       "      <td>w</td>\n",
       "      <td>p</td>\n",
       "      <td>w</td>\n",
       "      <td>o</td>\n",
       "      <td>p</td>\n",
       "      <td>k</td>\n",
       "      <td>s</td>\n",
       "      <td>u</td>\n",
       "    </tr>\n",
       "    <tr>\n",
       "      <td>1</td>\n",
       "      <td>e</td>\n",
       "      <td>x</td>\n",
       "      <td>s</td>\n",
       "      <td>y</td>\n",
       "      <td>t</td>\n",
       "      <td>a</td>\n",
       "      <td>f</td>\n",
       "      <td>c</td>\n",
       "      <td>b</td>\n",
       "      <td>k</td>\n",
       "      <td>...</td>\n",
       "      <td>s</td>\n",
       "      <td>w</td>\n",
       "      <td>w</td>\n",
       "      <td>p</td>\n",
       "      <td>w</td>\n",
       "      <td>o</td>\n",
       "      <td>p</td>\n",
       "      <td>n</td>\n",
       "      <td>n</td>\n",
       "      <td>g</td>\n",
       "    </tr>\n",
       "    <tr>\n",
       "      <td>2</td>\n",
       "      <td>e</td>\n",
       "      <td>b</td>\n",
       "      <td>s</td>\n",
       "      <td>w</td>\n",
       "      <td>t</td>\n",
       "      <td>l</td>\n",
       "      <td>f</td>\n",
       "      <td>c</td>\n",
       "      <td>b</td>\n",
       "      <td>n</td>\n",
       "      <td>...</td>\n",
       "      <td>s</td>\n",
       "      <td>w</td>\n",
       "      <td>w</td>\n",
       "      <td>p</td>\n",
       "      <td>w</td>\n",
       "      <td>o</td>\n",
       "      <td>p</td>\n",
       "      <td>n</td>\n",
       "      <td>n</td>\n",
       "      <td>m</td>\n",
       "    </tr>\n",
       "    <tr>\n",
       "      <td>3</td>\n",
       "      <td>p</td>\n",
       "      <td>x</td>\n",
       "      <td>y</td>\n",
       "      <td>w</td>\n",
       "      <td>t</td>\n",
       "      <td>p</td>\n",
       "      <td>f</td>\n",
       "      <td>c</td>\n",
       "      <td>n</td>\n",
       "      <td>n</td>\n",
       "      <td>...</td>\n",
       "      <td>s</td>\n",
       "      <td>w</td>\n",
       "      <td>w</td>\n",
       "      <td>p</td>\n",
       "      <td>w</td>\n",
       "      <td>o</td>\n",
       "      <td>p</td>\n",
       "      <td>k</td>\n",
       "      <td>s</td>\n",
       "      <td>u</td>\n",
       "    </tr>\n",
       "    <tr>\n",
       "      <td>4</td>\n",
       "      <td>e</td>\n",
       "      <td>x</td>\n",
       "      <td>s</td>\n",
       "      <td>g</td>\n",
       "      <td>f</td>\n",
       "      <td>n</td>\n",
       "      <td>f</td>\n",
       "      <td>w</td>\n",
       "      <td>b</td>\n",
       "      <td>k</td>\n",
       "      <td>...</td>\n",
       "      <td>s</td>\n",
       "      <td>w</td>\n",
       "      <td>w</td>\n",
       "      <td>p</td>\n",
       "      <td>w</td>\n",
       "      <td>o</td>\n",
       "      <td>e</td>\n",
       "      <td>n</td>\n",
       "      <td>a</td>\n",
       "      <td>g</td>\n",
       "    </tr>\n",
       "  </tbody>\n",
       "</table>\n",
       "<p>5 rows × 23 columns</p>\n",
       "</div>"
      ],
      "text/plain": [
       "  class cap-shape cap-surface cap-color bruises odor gill-attachment  \\\n",
       "0     p         x           s         n       t    p               f   \n",
       "1     e         x           s         y       t    a               f   \n",
       "2     e         b           s         w       t    l               f   \n",
       "3     p         x           y         w       t    p               f   \n",
       "4     e         x           s         g       f    n               f   \n",
       "\n",
       "  gill-spacing gill-size gill-color  ... stalk-surface-below-ring  \\\n",
       "0            c         n          k  ...                        s   \n",
       "1            c         b          k  ...                        s   \n",
       "2            c         b          n  ...                        s   \n",
       "3            c         n          n  ...                        s   \n",
       "4            w         b          k  ...                        s   \n",
       "\n",
       "  stalk-color-above-ring stalk-color-below-ring veil-type veil-color  \\\n",
       "0                      w                      w         p          w   \n",
       "1                      w                      w         p          w   \n",
       "2                      w                      w         p          w   \n",
       "3                      w                      w         p          w   \n",
       "4                      w                      w         p          w   \n",
       "\n",
       "  ring-number ring-type spore-print-color population habitat  \n",
       "0           o         p                 k          s       u  \n",
       "1           o         p                 n          n       g  \n",
       "2           o         p                 n          n       m  \n",
       "3           o         p                 k          s       u  \n",
       "4           o         e                 n          a       g  \n",
       "\n",
       "[5 rows x 23 columns]"
      ]
     },
     "execution_count": 362,
     "metadata": {},
     "output_type": "execute_result"
    }
   ],
   "source": [
    "mushroomDF = pd.read_csv('C:/Users/ankur/Downloads/Kaggle Notebooks/mushrooms.csv')\n",
    "mushroomDF.head()"
   ]
  },
  {
   "cell_type": "code",
   "execution_count": 366,
   "metadata": {},
   "outputs": [],
   "source": [
    "# Integer Encoding of all columns in dataset\n",
    "for column in mushroomDF.columns:\n",
    "    mushroomDF[column] = le.fit_transform(mushroomDF[column])"
   ]
  },
  {
   "cell_type": "code",
   "execution_count": 367,
   "metadata": {},
   "outputs": [
    {
     "data": {
      "text/html": [
       "<div>\n",
       "<style scoped>\n",
       "    .dataframe tbody tr th:only-of-type {\n",
       "        vertical-align: middle;\n",
       "    }\n",
       "\n",
       "    .dataframe tbody tr th {\n",
       "        vertical-align: top;\n",
       "    }\n",
       "\n",
       "    .dataframe thead th {\n",
       "        text-align: right;\n",
       "    }\n",
       "</style>\n",
       "<table border=\"1\" class=\"dataframe\">\n",
       "  <thead>\n",
       "    <tr style=\"text-align: right;\">\n",
       "      <th></th>\n",
       "      <th>class</th>\n",
       "      <th>cap-shape</th>\n",
       "      <th>cap-surface</th>\n",
       "      <th>cap-color</th>\n",
       "      <th>bruises</th>\n",
       "      <th>odor</th>\n",
       "      <th>gill-attachment</th>\n",
       "      <th>gill-spacing</th>\n",
       "      <th>gill-size</th>\n",
       "      <th>gill-color</th>\n",
       "      <th>...</th>\n",
       "      <th>stalk-surface-below-ring</th>\n",
       "      <th>stalk-color-above-ring</th>\n",
       "      <th>stalk-color-below-ring</th>\n",
       "      <th>veil-type</th>\n",
       "      <th>veil-color</th>\n",
       "      <th>ring-number</th>\n",
       "      <th>ring-type</th>\n",
       "      <th>spore-print-color</th>\n",
       "      <th>population</th>\n",
       "      <th>habitat</th>\n",
       "    </tr>\n",
       "  </thead>\n",
       "  <tbody>\n",
       "    <tr>\n",
       "      <td>0</td>\n",
       "      <td>1</td>\n",
       "      <td>5</td>\n",
       "      <td>2</td>\n",
       "      <td>4</td>\n",
       "      <td>1</td>\n",
       "      <td>6</td>\n",
       "      <td>1</td>\n",
       "      <td>0</td>\n",
       "      <td>1</td>\n",
       "      <td>4</td>\n",
       "      <td>...</td>\n",
       "      <td>2</td>\n",
       "      <td>7</td>\n",
       "      <td>7</td>\n",
       "      <td>0</td>\n",
       "      <td>2</td>\n",
       "      <td>1</td>\n",
       "      <td>4</td>\n",
       "      <td>2</td>\n",
       "      <td>3</td>\n",
       "      <td>5</td>\n",
       "    </tr>\n",
       "    <tr>\n",
       "      <td>1</td>\n",
       "      <td>0</td>\n",
       "      <td>5</td>\n",
       "      <td>2</td>\n",
       "      <td>9</td>\n",
       "      <td>1</td>\n",
       "      <td>0</td>\n",
       "      <td>1</td>\n",
       "      <td>0</td>\n",
       "      <td>0</td>\n",
       "      <td>4</td>\n",
       "      <td>...</td>\n",
       "      <td>2</td>\n",
       "      <td>7</td>\n",
       "      <td>7</td>\n",
       "      <td>0</td>\n",
       "      <td>2</td>\n",
       "      <td>1</td>\n",
       "      <td>4</td>\n",
       "      <td>3</td>\n",
       "      <td>2</td>\n",
       "      <td>1</td>\n",
       "    </tr>\n",
       "    <tr>\n",
       "      <td>2</td>\n",
       "      <td>0</td>\n",
       "      <td>0</td>\n",
       "      <td>2</td>\n",
       "      <td>8</td>\n",
       "      <td>1</td>\n",
       "      <td>3</td>\n",
       "      <td>1</td>\n",
       "      <td>0</td>\n",
       "      <td>0</td>\n",
       "      <td>5</td>\n",
       "      <td>...</td>\n",
       "      <td>2</td>\n",
       "      <td>7</td>\n",
       "      <td>7</td>\n",
       "      <td>0</td>\n",
       "      <td>2</td>\n",
       "      <td>1</td>\n",
       "      <td>4</td>\n",
       "      <td>3</td>\n",
       "      <td>2</td>\n",
       "      <td>3</td>\n",
       "    </tr>\n",
       "    <tr>\n",
       "      <td>3</td>\n",
       "      <td>1</td>\n",
       "      <td>5</td>\n",
       "      <td>3</td>\n",
       "      <td>8</td>\n",
       "      <td>1</td>\n",
       "      <td>6</td>\n",
       "      <td>1</td>\n",
       "      <td>0</td>\n",
       "      <td>1</td>\n",
       "      <td>5</td>\n",
       "      <td>...</td>\n",
       "      <td>2</td>\n",
       "      <td>7</td>\n",
       "      <td>7</td>\n",
       "      <td>0</td>\n",
       "      <td>2</td>\n",
       "      <td>1</td>\n",
       "      <td>4</td>\n",
       "      <td>2</td>\n",
       "      <td>3</td>\n",
       "      <td>5</td>\n",
       "    </tr>\n",
       "    <tr>\n",
       "      <td>4</td>\n",
       "      <td>0</td>\n",
       "      <td>5</td>\n",
       "      <td>2</td>\n",
       "      <td>3</td>\n",
       "      <td>0</td>\n",
       "      <td>5</td>\n",
       "      <td>1</td>\n",
       "      <td>1</td>\n",
       "      <td>0</td>\n",
       "      <td>4</td>\n",
       "      <td>...</td>\n",
       "      <td>2</td>\n",
       "      <td>7</td>\n",
       "      <td>7</td>\n",
       "      <td>0</td>\n",
       "      <td>2</td>\n",
       "      <td>1</td>\n",
       "      <td>0</td>\n",
       "      <td>3</td>\n",
       "      <td>0</td>\n",
       "      <td>1</td>\n",
       "    </tr>\n",
       "  </tbody>\n",
       "</table>\n",
       "<p>5 rows × 23 columns</p>\n",
       "</div>"
      ],
      "text/plain": [
       "   class  cap-shape  cap-surface  cap-color  bruises  odor  gill-attachment  \\\n",
       "0      1          5            2          4        1     6                1   \n",
       "1      0          5            2          9        1     0                1   \n",
       "2      0          0            2          8        1     3                1   \n",
       "3      1          5            3          8        1     6                1   \n",
       "4      0          5            2          3        0     5                1   \n",
       "\n",
       "   gill-spacing  gill-size  gill-color  ...  stalk-surface-below-ring  \\\n",
       "0             0          1           4  ...                         2   \n",
       "1             0          0           4  ...                         2   \n",
       "2             0          0           5  ...                         2   \n",
       "3             0          1           5  ...                         2   \n",
       "4             1          0           4  ...                         2   \n",
       "\n",
       "   stalk-color-above-ring  stalk-color-below-ring  veil-type  veil-color  \\\n",
       "0                       7                       7          0           2   \n",
       "1                       7                       7          0           2   \n",
       "2                       7                       7          0           2   \n",
       "3                       7                       7          0           2   \n",
       "4                       7                       7          0           2   \n",
       "\n",
       "   ring-number  ring-type  spore-print-color  population  habitat  \n",
       "0            1          4                  2           3        5  \n",
       "1            1          4                  3           2        1  \n",
       "2            1          4                  3           2        3  \n",
       "3            1          4                  2           3        5  \n",
       "4            1          0                  3           0        1  \n",
       "\n",
       "[5 rows x 23 columns]"
      ]
     },
     "execution_count": 367,
     "metadata": {},
     "output_type": "execute_result"
    }
   ],
   "source": [
    "mushroomDF.head()"
   ]
  },
  {
   "cell_type": "code",
   "execution_count": 368,
   "metadata": {},
   "outputs": [],
   "source": [
    "y = mushroomDF['class'].values\n",
    "X = mushroomDF.drop('class', axis = 1).values\n",
    "X_train, X_test, y_train, y_test = train_test_split(X, y, test_size=0.2, random_state=21, stratify=y)"
   ]
  },
  {
   "cell_type": "code",
   "execution_count": 369,
   "metadata": {},
   "outputs": [],
   "source": [
    "# Creating ANN Model\n",
    "#Dependencies\n",
    "import keras\n",
    "from keras.models import Sequential\n",
    "from keras.layers import Dense# Neural network\n",
    "model = Sequential()\n",
    "model.add(Dense(16, kernel_initializer = 'uniform', input_dim=22, activation= 'relu'))\n",
    "model.add(Dense(16, kernel_initializer = 'uniform', activation= 'relu'))\n",
    "model.add(Dense(1, kernel_initializer = 'uniform', activation= 'sigmoid'))\n",
    "#Specify loss function and optimizer\n",
    "model.compile(loss='binary_crossentropy', optimizer='adam', metrics=['accuracy'])"
   ]
  },
  {
   "cell_type": "code",
   "execution_count": 370,
   "metadata": {},
   "outputs": [
    {
     "name": "stdout",
     "output_type": "stream",
     "text": [
      "Train on 6499 samples, validate on 1625 samples\n",
      "Epoch 1/70\n",
      "6499/6499 [==============================] - 5s 696us/step - loss: 0.3955 - acc: 0.8434 - val_loss: 0.2415 - val_acc: 0.9071\n",
      "Epoch 2/70\n",
      "6499/6499 [==============================] - 1s 225us/step - loss: 0.2082 - acc: 0.9289 - val_loss: 0.1801 - val_acc: 0.9391\n",
      "Epoch 3/70\n",
      "6499/6499 [==============================] - 2s 233us/step - loss: 0.1600 - acc: 0.9455 - val_loss: 0.1447 - val_acc: 0.9372\n",
      "Epoch 4/70\n",
      "6499/6499 [==============================] - 2s 232us/step - loss: 0.1195 - acc: 0.9591 - val_loss: 0.0985 - val_acc: 0.9655\n",
      "Epoch 5/70\n",
      "6499/6499 [==============================] - 2s 256us/step - loss: 0.0805 - acc: 0.9746 - val_loss: 0.0674 - val_acc: 0.9791\n",
      "Epoch 6/70\n",
      "6499/6499 [==============================] - 2s 256us/step - loss: 0.0594 - acc: 0.9815 - val_loss: 0.0498 - val_acc: 0.9871\n",
      "Epoch 7/70\n",
      "6499/6499 [==============================] - 2s 253us/step - loss: 0.0446 - acc: 0.9888 - val_loss: 0.0376 - val_acc: 0.9926\n",
      "Epoch 8/70\n",
      "6499/6499 [==============================] - 2s 259us/step - loss: 0.0372 - acc: 0.9902 - val_loss: 0.0389 - val_acc: 0.9902\n",
      "Epoch 9/70\n",
      "6499/6499 [==============================] - 2s 244us/step - loss: 0.0316 - acc: 0.9917 - val_loss: 0.0520 - val_acc: 0.9760\n",
      "Epoch 10/70\n",
      "6499/6499 [==============================] - 2s 258us/step - loss: 0.0266 - acc: 0.9926 - val_loss: 0.0281 - val_acc: 0.9938\n",
      "Epoch 11/70\n",
      "6499/6499 [==============================] - 1s 226us/step - loss: 0.0240 - acc: 0.9926 - val_loss: 0.0181 - val_acc: 0.9945\n",
      "Epoch 12/70\n",
      "6499/6499 [==============================] - 1s 228us/step - loss: 0.0195 - acc: 0.9948 - val_loss: 0.0319 - val_acc: 0.9865\n",
      "Epoch 13/70\n",
      "6499/6499 [==============================] - 2s 231us/step - loss: 0.0192 - acc: 0.9935 - val_loss: 0.0226 - val_acc: 0.9926\n",
      "Epoch 14/70\n",
      "6499/6499 [==============================] - 2s 235us/step - loss: 0.0136 - acc: 0.9954 - val_loss: 0.0106 - val_acc: 0.9969\n",
      "Epoch 15/70\n",
      "6499/6499 [==============================] - 2s 250us/step - loss: 0.0131 - acc: 0.9966 - val_loss: 0.0112 - val_acc: 0.9982\n",
      "Epoch 16/70\n",
      "6499/6499 [==============================] - 2s 233us/step - loss: 0.0110 - acc: 0.9965 - val_loss: 0.0077 - val_acc: 0.9975\n",
      "Epoch 17/70\n",
      "6499/6499 [==============================] - 2s 251us/step - loss: 0.0085 - acc: 0.9977 - val_loss: 0.0108 - val_acc: 0.9957\n",
      "Epoch 18/70\n",
      "6499/6499 [==============================] - 2s 246us/step - loss: 0.0106 - acc: 0.9966 - val_loss: 0.0112 - val_acc: 0.9988\n",
      "Epoch 19/70\n",
      "6499/6499 [==============================] - 2s 263us/step - loss: 0.0074 - acc: 0.9985 - val_loss: 0.0055 - val_acc: 0.9982\n",
      "Epoch 20/70\n",
      "6499/6499 [==============================] - 2s 234us/step - loss: 0.0065 - acc: 0.9983 - val_loss: 0.0047 - val_acc: 0.9988\n",
      "Epoch 21/70\n",
      "6499/6499 [==============================] - 2s 241us/step - loss: 0.0066 - acc: 0.9980 - val_loss: 0.0051 - val_acc: 0.9975\n",
      "Epoch 22/70\n",
      "6499/6499 [==============================] - 2s 243us/step - loss: 0.0050 - acc: 0.9986 - val_loss: 0.0067 - val_acc: 0.9975\n",
      "Epoch 23/70\n",
      "6499/6499 [==============================] - 1s 185us/step - loss: 0.0061 - acc: 0.9975 - val_loss: 0.0068 - val_acc: 0.9975\n",
      "Epoch 24/70\n",
      "6499/6499 [==============================] - 1s 163us/step - loss: 0.0073 - acc: 0.9978 - val_loss: 0.0057 - val_acc: 0.9975\n",
      "Epoch 25/70\n",
      "6499/6499 [==============================] - 1s 159us/step - loss: 0.0045 - acc: 0.9985 - val_loss: 0.0025 - val_acc: 1.0000\n",
      "Epoch 26/70\n",
      "6499/6499 [==============================] - 1s 209us/step - loss: 0.0031 - acc: 0.9994 - val_loss: 0.0023 - val_acc: 0.9988\n",
      "Epoch 27/70\n",
      "6499/6499 [==============================] - 1s 161us/step - loss: 0.0033 - acc: 0.9988 - val_loss: 0.0182 - val_acc: 0.9938\n",
      "Epoch 28/70\n",
      "6499/6499 [==============================] - 1s 166us/step - loss: 0.0092 - acc: 0.9966 - val_loss: 0.0028 - val_acc: 0.9988\n",
      "Epoch 29/70\n",
      "6499/6499 [==============================] - 1s 160us/step - loss: 0.0052 - acc: 0.9980 - val_loss: 0.0116 - val_acc: 0.9969\n",
      "Epoch 30/70\n",
      "6499/6499 [==============================] - 1s 165us/step - loss: 0.0033 - acc: 0.9988 - val_loss: 0.0017 - val_acc: 0.9994\n",
      "Epoch 31/70\n",
      "6499/6499 [==============================] - 1s 167us/step - loss: 0.0023 - acc: 0.9995 - val_loss: 0.0022 - val_acc: 0.9994\n",
      "Epoch 32/70\n",
      "6499/6499 [==============================] - 1s 182us/step - loss: 0.0038 - acc: 0.9989 - val_loss: 0.0016 - val_acc: 0.9994\n",
      "Epoch 33/70\n",
      "6499/6499 [==============================] - 1s 117us/step - loss: 0.0041 - acc: 0.9989 - val_loss: 0.0023 - val_acc: 0.9988\n",
      "Epoch 34/70\n",
      "6499/6499 [==============================] - 1s 117us/step - loss: 0.0032 - acc: 0.9988 - val_loss: 0.0295 - val_acc: 0.9920\n",
      "Epoch 35/70\n",
      "6499/6499 [==============================] - 1s 196us/step - loss: 0.0037 - acc: 0.9985 - val_loss: 0.0016 - val_acc: 0.9994\n",
      "Epoch 36/70\n",
      "6499/6499 [==============================] - 1s 154us/step - loss: 0.0026 - acc: 0.9994 - val_loss: 0.0032 - val_acc: 0.9988\n",
      "Epoch 37/70\n",
      "6499/6499 [==============================] - 1s 138us/step - loss: 0.0026 - acc: 0.9992 - val_loss: 0.0050 - val_acc: 0.9982\n",
      "Epoch 38/70\n",
      "6499/6499 [==============================] - 1s 147us/step - loss: 0.0047 - acc: 0.9982 - val_loss: 0.0019 - val_acc: 1.0000\n",
      "Epoch 39/70\n",
      "6499/6499 [==============================] - 1s 179us/step - loss: 0.0096 - acc: 0.9971 - val_loss: 0.0012 - val_acc: 1.0000\n",
      "Epoch 40/70\n",
      "6499/6499 [==============================] - 1s 147us/step - loss: 0.0012 - acc: 1.0000 - val_loss: 0.0012 - val_acc: 1.0000\n",
      "Epoch 41/70\n",
      "6499/6499 [==============================] - 1s 125us/step - loss: 0.0016 - acc: 1.0000 - val_loss: 0.0070 - val_acc: 0.9969\n",
      "Epoch 42/70\n",
      "6499/6499 [==============================] - 1s 157us/step - loss: 0.0017 - acc: 0.9998 - val_loss: 0.0015 - val_acc: 1.0000\n",
      "Epoch 43/70\n",
      "6499/6499 [==============================] - 1s 149us/step - loss: 0.0015 - acc: 0.9997 - val_loss: 9.3852e-04 - val_acc: 1.0000\n",
      "Epoch 44/70\n",
      "6499/6499 [==============================] - 1s 150us/step - loss: 0.0033 - acc: 0.9989 - val_loss: 0.0010 - val_acc: 1.0000\n",
      "Epoch 45/70\n",
      "6499/6499 [==============================] - 1s 152us/step - loss: 0.0063 - acc: 0.9975 - val_loss: 0.0021 - val_acc: 1.0000\n",
      "Epoch 46/70\n",
      "6499/6499 [==============================] - 1s 151us/step - loss: 0.0027 - acc: 0.9994 - val_loss: 8.1497e-04 - val_acc: 1.0000\n",
      "Epoch 47/70\n",
      "6499/6499 [==============================] - 1s 148us/step - loss: 0.0011 - acc: 1.0000 - val_loss: 5.7306e-04 - val_acc: 1.0000\n",
      "Epoch 48/70\n",
      "6499/6499 [==============================] - 1s 121us/step - loss: 9.3198e-04 - acc: 1.0000 - val_loss: 8.5344e-04 - val_acc: 1.0000\n",
      "Epoch 49/70\n",
      "6499/6499 [==============================] - 1s 152us/step - loss: 0.0047 - acc: 0.9985 - val_loss: 8.6229e-04 - val_acc: 1.0000\n",
      "Epoch 50/70\n",
      "6499/6499 [==============================] - 1s 149us/step - loss: 0.0011 - acc: 1.0000 - val_loss: 0.0011 - val_acc: 1.0000\n",
      "Epoch 51/70\n",
      "6499/6499 [==============================] - 1s 142us/step - loss: 0.0039 - acc: 0.9983 - val_loss: 5.9447e-04 - val_acc: 1.0000\n",
      "Epoch 52/70\n",
      "6499/6499 [==============================] - 1s 146us/step - loss: 8.0468e-04 - acc: 1.0000 - val_loss: 3.5664e-04 - val_acc: 1.0000\n",
      "Epoch 53/70\n",
      "6499/6499 [==============================] - 1s 143us/step - loss: 0.0029 - acc: 0.9989 - val_loss: 4.2470e-04 - val_acc: 1.0000\n",
      "Epoch 54/70\n",
      "6499/6499 [==============================] - 1s 142us/step - loss: 8.5350e-04 - acc: 1.0000 - val_loss: 4.5338e-04 - val_acc: 1.0000\n",
      "Epoch 55/70\n",
      "6499/6499 [==============================] - 1s 142us/step - loss: 0.0048 - acc: 0.9986 - val_loss: 4.0227e-04 - val_acc: 1.0000\n",
      "Epoch 56/70\n",
      "6499/6499 [==============================] - 1s 130us/step - loss: 4.9856e-04 - acc: 1.0000 - val_loss: 3.6239e-04 - val_acc: 1.0000\n",
      "Epoch 57/70\n",
      "6499/6499 [==============================] - 1s 147us/step - loss: 0.0025 - acc: 0.9992 - val_loss: 3.2723e-04 - val_acc: 1.0000\n",
      "Epoch 58/70\n",
      "6499/6499 [==============================] - 1s 150us/step - loss: 6.0902e-04 - acc: 1.0000 - val_loss: 2.9349e-04 - val_acc: 1.0000\n",
      "Epoch 59/70\n",
      "6499/6499 [==============================] - 1s 143us/step - loss: 9.4568e-04 - acc: 0.9997 - val_loss: 5.5216e-04 - val_acc: 1.0000\n"
     ]
    },
    {
     "name": "stdout",
     "output_type": "stream",
     "text": [
      "Epoch 60/70\n",
      "6499/6499 [==============================] - 1s 152us/step - loss: 3.4868e-04 - acc: 1.0000 - val_loss: 5.9331e-04 - val_acc: 1.0000\n",
      "Epoch 61/70\n",
      "6499/6499 [==============================] - 1s 140us/step - loss: 0.0025 - acc: 0.9995 - val_loss: 9.1728e-04 - val_acc: 1.0000\n",
      "Epoch 62/70\n",
      "6499/6499 [==============================] - 1s 150us/step - loss: 0.0027 - acc: 0.9992 - val_loss: 1.6870e-04 - val_acc: 1.0000\n",
      "Epoch 63/70\n",
      "6499/6499 [==============================] - 1s 124us/step - loss: 2.8180e-04 - acc: 1.0000 - val_loss: 1.2150e-04 - val_acc: 1.0000\n",
      "Epoch 64/70\n",
      "6499/6499 [==============================] - 1s 125us/step - loss: 2.2751e-04 - acc: 1.0000 - val_loss: 1.1288e-04 - val_acc: 1.0000\n",
      "Epoch 65/70\n",
      "6499/6499 [==============================] - 1s 144us/step - loss: 2.1212e-04 - acc: 1.0000 - val_loss: 9.0914e-05 - val_acc: 1.0000\n",
      "Epoch 66/70\n",
      "6499/6499 [==============================] - 1s 155us/step - loss: 8.7065e-04 - acc: 1.0000 - val_loss: 1.1288e-04 - val_acc: 1.0000\n",
      "Epoch 67/70\n",
      "6499/6499 [==============================] - 1s 153us/step - loss: 0.0018 - acc: 0.9994 - val_loss: 0.0018 - val_acc: 0.9994\n",
      "Epoch 68/70\n",
      "6499/6499 [==============================] - 1s 153us/step - loss: 0.0022 - acc: 0.9992 - val_loss: 1.8544e-04 - val_acc: 1.0000\n",
      "Epoch 69/70\n",
      "6499/6499 [==============================] - 1s 154us/step - loss: 1.5221e-04 - acc: 1.0000 - val_loss: 8.4534e-05 - val_acc: 1.0000\n",
      "Epoch 70/70\n",
      "6499/6499 [==============================] - 1s 155us/step - loss: 0.0055 - acc: 0.9985 - val_loss: 4.5970e-04 - val_acc: 1.0000\n"
     ]
    }
   ],
   "source": [
    "history = model.fit(X_train, y_train,validation_data = (X_test,y_test), epochs=70, batch_size=16)"
   ]
  },
  {
   "cell_type": "code",
   "execution_count": 371,
   "metadata": {},
   "outputs": [
    {
     "data": {
      "image/png": "[encoded data removed]",
      "text/plain": [
       "<Figure size 432x288 with 1 Axes>"
      ]
     },
     "metadata": {
      "needs_background": "light"
     },
     "output_type": "display_data"
    }
   ],
   "source": [
    "import matplotlib.pyplot as plt\n",
    "plt.plot(history.history['acc'])\n",
    "plt.plot(history.history['val_acc'])\n",
    "plt.title('Model accuracy')\n",
    "plt.ylabel('Accuracy')\n",
    "plt.xlabel('Epoch')\n",
    "plt.legend(['Train', 'Test'], loc='upper left')\n",
    "plt.show()"
   ]
  },
  {
   "cell_type": "code",
   "execution_count": 372,
   "metadata": {},
   "outputs": [
    {
     "data": {
      "image/png": "[encoded data removed]",
      "text/plain": [
       "<Figure size 432x288 with 1 Axes>"
      ]
     },
     "metadata": {
      "needs_background": "light"
     },
     "output_type": "display_data"
    }
   ],
   "source": [
    "plt.plot(history.history['loss']) \n",
    "plt.plot(history.history['val_loss']) \n",
    "plt.title('Model loss') \n",
    "plt.ylabel('Loss') \n",
    "plt.xlabel('Epoch') \n",
    "plt.legend(['Train', 'Test'], loc='upper left') \n",
    "plt.show()"
   ]
  },
  {
   "cell_type": "code",
   "execution_count": 375,
   "metadata": {},
   "outputs": [],
   "source": [
    "y_pred=model.predict(X_test)\n",
    "y_pred=(y_pred>0.5)"
   ]
  },
  {
   "cell_type": "code",
   "execution_count": 376,
   "metadata": {},
   "outputs": [
    {
     "name": "stdout",
     "output_type": "stream",
     "text": [
      "[[842   0]\n",
      " [  0 783]]\n"
     ]
    }
   ],
   "source": [
    "from sklearn.metrics import confusion_matrix,classification_report\n",
    "print(confusion_matrix(y_test, y_pred))"
   ]
  },
  {
   "cell_type": "code",
   "execution_count": 377,
   "metadata": {
    "scrolled": true
   },
   "outputs": [
    {
     "name": "stdout",
     "output_type": "stream",
     "text": [
      "              precision    recall  f1-score   support\n",
      "\n",
      "           0       1.00      1.00      1.00       842\n",
      "           1       1.00      1.00      1.00       783\n",
      "\n",
      "    accuracy                           1.00      1625\n",
      "   macro avg       1.00      1.00      1.00      1625\n",
      "weighted avg       1.00      1.00      1.00      1625\n",
      "\n"
     ]
    }
   ],
   "source": [
    "print(classification_report(y_test, y_pred))"
   ]
  },
  {
   "cell_type": "markdown",
   "metadata": {},
   "source": [
    "# Neural Network Testing With Hyperparameter Tuning"
   ]
  },
  {
   "cell_type": "code",
   "execution_count": 45,
   "metadata": {},
   "outputs": [],
   "source": [
    "import pandas as pd\n",
    "import matplotlib.pyplot as plt\n",
    "import numpy as np\n",
    "\n",
    "from keras.models import Sequential\n",
    "from keras.layers import Dense, Activation, Embedding, Flatten, LeakyReLU, BatchNormalization, Dropout\n",
    "from keras.activations import relu, sigmoid\n",
    "from keras.layers import LeakyReLU"
   ]
  },
  {
   "cell_type": "code",
   "execution_count": 46,
   "metadata": {},
   "outputs": [],
   "source": [
    "from keras.wrappers.scikit_learn import KerasClassifier\n",
    "from sklearn.model_selection import GridSearchCV"
   ]
  },
  {
   "cell_type": "code",
   "execution_count": 47,
   "metadata": {},
   "outputs": [],
   "source": [
    "mushroomDF = pd.read_csv('C:/Users/ankur/Downloads/Kaggle Notebooks/mushrooms.csv')\n",
    "mushroomDF.head()\n",
    "# Integer Encoding of all columns in dataset\n",
    "for column in mushroomDF.columns:\n",
    "    mushroomDF[column] = le.fit_transform(mushroomDF[column])\n",
    "y = mushroomDF['class'].values\n",
    "X = mushroomDF.drop('class', axis = 1).values\n",
    "X_train, X_test, y_train, y_test = train_test_split(X, y, test_size=0.2, random_state=21, stratify=y)"
   ]
  },
  {
   "cell_type": "code",
   "execution_count": 48,
   "metadata": {},
   "outputs": [],
   "source": [
    "def create_model(layers, activation):\n",
    "    model = Sequential()\n",
    "    for i, nodes in enumerate(layers):\n",
    "        if i==0:\n",
    "            print(i,nodes)\n",
    "            model.add(Dense(nodes,input_dim=X_train.shape[1]))\n",
    "            model.add(Activation(activation))\n",
    "        else:\n",
    "            model.add(Dense(nodes))\n",
    "            model.add(Activation(activation))\n",
    "    model.add(Dense(1)) # Note: no activation beyond this point\n",
    "    \n",
    "    model.compile(optimizer='adam', loss='binary_crossentropy',metrics=['accuracy'])\n",
    "    return model\n",
    "    \n",
    "model = KerasClassifier(build_fn=create_model, verbose=0)"
   ]
  },
  {
   "cell_type": "code",
   "execution_count": 49,
   "metadata": {},
   "outputs": [
    {
     "data": {
      "text/plain": [
       "<keras.wrappers.scikit_learn.KerasClassifier at 0x1d32ff5eb08>"
      ]
     },
     "execution_count": 49,
     "metadata": {},
     "output_type": "execute_result"
    }
   ],
   "source": [
    "model"
   ]
  },
  {
   "cell_type": "code",
   "execution_count": 50,
   "metadata": {},
   "outputs": [
    {
     "name": "stdout",
     "output_type": "stream",
     "text": [
      "(6499, 22)\n",
      "(6499,)\n"
     ]
    }
   ],
   "source": [
    "print(X_train.shape)\n",
    "print(y_train.shape)"
   ]
  },
  {
   "cell_type": "code",
   "execution_count": 51,
   "metadata": {},
   "outputs": [],
   "source": [
    "layers = [[20], [40, 20], [45, 30, 15]]\n",
    "# This means we will have \n",
    "#one hidden layers with 20 neuron,\n",
    "# then it will have 2 layer with 40 neuron in 1st layer and 2nd layer will have 20 layer\n",
    "# three layers with 45 neuron\n",
    "\n",
    "activations = ['sigmoid', 'relu']\n",
    "param_grid = dict(layers=layers, activation=activations, batch_size = [128, 256], epochs=[30])\n",
    "grid = GridSearchCV(estimator=model, param_grid=param_grid)"
   ]
  },
  {
   "cell_type": "code",
   "execution_count": 52,
   "metadata": {},
   "outputs": [
    {
     "name": "stderr",
     "output_type": "stream",
     "text": [
      "C:\\Users\\ankur\\Anaconda2\\envs\\py36\\lib\\site-packages\\sklearn\\model_selection\\_split.py:1978: FutureWarning: The default value of cv will change from 3 to 5 in version 0.22. Specify it explicitly to silence this warning.\n",
      "  warnings.warn(CV_WARNING, FutureWarning)\n"
     ]
    }
   ],
   "source": [
    "grid_result = grid.fit(X_train, y_train)"
   ]
  },
  {
   "cell_type": "code",
   "execution_count": 53,
   "metadata": {},
   "outputs": [
    {
     "data": {
      "text/plain": [
       "[0.9102938915421586,\n",
       " {'activation': 'sigmoid', 'batch_size': 128, 'epochs': 30, 'layers': [20]}]"
      ]
     },
     "execution_count": 53,
     "metadata": {},
     "output_type": "execute_result"
    }
   ],
   "source": [
    "[grid_result.best_score_,grid_result.best_params_]"
   ]
  },
  {
   "cell_type": "code",
   "execution_count": 54,
   "metadata": {},
   "outputs": [],
   "source": [
    "pred_y = grid.predict(X_test)"
   ]
  },
  {
   "cell_type": "code",
   "execution_count": 55,
   "metadata": {},
   "outputs": [],
   "source": [
    "y_pred = (pred_y > 0.5)"
   ]
  },
  {
   "cell_type": "code",
   "execution_count": 56,
   "metadata": {},
   "outputs": [
    {
     "data": {
      "text/plain": [
       "array([[ True],\n",
       "       [False],\n",
       "       [False],\n",
       "       ...,\n",
       "       [ True],\n",
       "       [ True],\n",
       "       [False]])"
      ]
     },
     "execution_count": 56,
     "metadata": {},
     "output_type": "execute_result"
    }
   ],
   "source": [
    "y_pred"
   ]
  },
  {
   "cell_type": "code",
   "execution_count": 57,
   "metadata": {},
   "outputs": [],
   "source": [
    "from sklearn.metrics import confusion_matrix\n",
    "cm = confusion_matrix(y_test, y_pred)"
   ]
  },
  {
   "cell_type": "code",
   "execution_count": 58,
   "metadata": {},
   "outputs": [
    {
     "data": {
      "text/plain": [
       "array([[812,  30],\n",
       "       [ 97, 686]], dtype=int64)"
      ]
     },
     "execution_count": 58,
     "metadata": {},
     "output_type": "execute_result"
    }
   ],
   "source": [
    "cm"
   ]
  },
  {
   "cell_type": "code",
   "execution_count": 59,
   "metadata": {},
   "outputs": [
    {
     "data": {
      "text/plain": [
       "0.9218461538461539"
      ]
     },
     "execution_count": 59,
     "metadata": {},
     "output_type": "execute_result"
    }
   ],
   "source": [
    "from sklearn.metrics import accuracy_score\n",
    "score=accuracy_score(y_test,y_pred)\n",
    "score"
   ]
  }
 ],
 "metadata": {
  "kernelspec": {
   "display_name": "Python 3",
   "language": "python",
   "name": "python3"
  },
  "language_info": {
   "codemirror_mode": {
    "name": "ipython",
    "version": 3
   },
   "file_extension": ".py",
   "mimetype": "text/x-python",
   "name": "python",
   "nbconvert_exporter": "python",
   "pygments_lexer": "ipython3",
   "version": "3.7.4"
  }
 },
 "nbformat": 4,
 "nbformat_minor": 2
}
